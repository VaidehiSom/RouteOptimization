{
  "nbformat": 4,
  "nbformat_minor": 0,
  "metadata": {
    "accelerator": "GPU",
    "colab": {
      "name": "Copy of BOSCH's route optimization - TECH MEET '19.ipynb",
      "provenance": [],
      "collapsed_sections": [],
      "include_colab_link": true
    },
    "kernelspec": {
      "name": "python3",
      "display_name": "Python 3"
    },
    "language_info": {
      "codemirror_mode": {
        "name": "ipython",
        "version": 3
      },
      "file_extension": ".py",
      "mimetype": "text/x-python",
      "name": "python",
      "nbconvert_exporter": "python",
      "pygments_lexer": "ipython3",
      "version": "3.7.4"
    }
  },
  "cells": [
    {
      "cell_type": "markdown",
      "metadata": {
        "id": "view-in-github",
        "colab_type": "text"
      },
      "source": [
        "<a href=\"https://colab.research.google.com/github/PranavG200/hello-world/blob/master/Copy_of_BOSCH's_route_optimization_TECH_MEET_'19.ipynb\" target=\"_parent\"><img src=\"https://colab.research.google.com/assets/colab-badge.svg\" alt=\"Open In Colab\"/></a>"
      ]
    },
    {
      "cell_type": "markdown",
      "metadata": {
        "colab_type": "text",
        "id": "EIK3ozN7Yrcp"
      },
      "source": [
        "## 3.Vehicle Routing problem"
      ]
    },
    {
      "cell_type": "code",
      "metadata": {
        "id": "co7KPTIzV68Z",
        "colab_type": "code",
        "colab": {
          "base_uri": "https://localhost:8080/",
          "height": 148
        },
        "outputId": "d702cbfc-b123-4f2e-f76b-716005af016d"
      },
      "source": [
        "!pip install ortools"
      ],
      "execution_count": null,
      "outputs": [
        {
          "output_type": "stream",
          "text": [
            "Collecting ortools\n",
            "\u001b[?25l  Downloading https://files.pythonhosted.org/packages/b2/c2/81a18b1ee4e9c8401fa2c9bc6fcd1b59b1c30ff7a1b214aff84d718d95c5/ortools-7.4.7247-cp36-cp36m-manylinux1_x86_64.whl (27.7MB)\n",
            "\u001b[K     |████████████████████████████████| 27.7MB 109kB/s \n",
            "\u001b[?25hRequirement already satisfied: protobuf>=3.10.0 in /usr/local/lib/python3.6/dist-packages (from ortools) (3.10.0)\n",
            "Requirement already satisfied: six>=1.10 in /usr/local/lib/python3.6/dist-packages (from ortools) (1.12.0)\n",
            "Requirement already satisfied: setuptools in /usr/local/lib/python3.6/dist-packages (from protobuf>=3.10.0->ortools) (42.0.2)\n",
            "Installing collected packages: ortools\n",
            "Successfully installed ortools-7.4.7247\n"
          ],
          "name": "stdout"
        }
      ]
    },
    {
      "cell_type": "code",
      "metadata": {
        "colab_type": "code",
        "id": "XvPzbY3lYrcq",
        "colab": {}
      },
      "source": [
        "\"\"\"Vehicles Routing Problem (VRP).\"\"\"\n",
        "\n",
        "from __future__ import print_function\n",
        "from ortools.constraint_solver import routing_enums_pb2\n",
        "from ortools.constraint_solver import pywrapcp\n",
        "import matplotlib.pyplot as plt\n"
      ],
      "execution_count": null,
      "outputs": []
    },
    {
      "cell_type": "code",
      "metadata": {
        "id": "4A7OeJ94v5CX",
        "colab_type": "code",
        "colab": {
          "base_uri": "https://localhost:8080/",
          "height": 99
        },
        "outputId": "315466c9-5a60-436b-dc81-0ec4127e5824"
      },
      "source": [
        "\"\"\" GIVEN SAMPLE data\"\"\"\n",
        "\n",
        "def create_data_model():\n",
        "    \"\"\"Stores the data for the problem.\"\"\"\n",
        "    data = {}\n",
        "    data['distance_matrix'] = [\n",
        " [0,\t3,  0.6,\t8,\t8.5,\t5.5,\t4.4,\t6.6,\t5,\t5.6,\t11.5,\t5,\t9.1,\t5.9,\t4.7,\t4,\t5.6,\t9,\t31.2],\n",
        " [3.6,\t0,\t4.5,\t5.3,\t3.2,\t2.3,\t4.6,\t1.8,\t3,\t8.3,\t5,\t5.9,\t4.2,\t4.6,\t1.2,\t6.7,\t1.7,\t27],\n",
        " [8,\t4.5,\t0,\t4.6,\t3.6,\t2.9,\t1.9,\t3.6,\t1.4,\t5,\t7.2,\t4.5,\t3.2,\t6.8,\t5.2,\t9.6,\t3.9,\t30.1],\n",
        " [8.5,\t5.3,\t4.6,\t0,\t6.5,\t5.9,\t5.8,\t6.2,\t4.4,\t3.9,\t9.5,\t1.6,\t6,\t9,\t5.8,\t11.3,\t3.7,\t21.7],\n",
        " [5.5,\t3.2,\t3.6,\t6.5,\t0,\t0.9,\t3,\t2,\t2.1,\t7.6,\t3.6,\t6.4,\t1.2,\t3.1,\t2.9,\t6.8,\t5.7,\t31.6],\n",
        " [4.4,\t2.3,\t2.9,\t5.9,\t0.9,\t0,\t2.3,\t1.1,\t1.2,\t7.3,\t4.5,\t5.6,\t1.6,\t3.9,\t1.9,\t7.1,\t4.9,\t30.9],\n",
        " [6.6,\t4.6,\t1.9,\t5.8,\t3,\t2.3,\t0,\t3.4,\t2.4,\t4.9,\t6.3,\t4.7,\t2.1,\t5.8,\t4.6,\t9.3,\t5.1,\t28.6],\n",
        " [5,\t1.8,\t3.6,\t6.2,\t2,\t1.1,\t3.4,\t0,\t2.6,\t7.9,\t3.4,\t7,\t2.4,\t2.8,\t2.1,\t6.2,\t6,\t32.2],\n",
        " [5.6,\t3,\t1.4,\t4.4,\t2.1,\t1.2,\t2.4,\t2.6,\t0,\t7,\t5.3,\t4.9,\t1.9,\t5,\t2.7,\t8.2,\t2.4,\t26],\n",
        " [11.5,\t8.3,\t5,\t3.9,\t7.6,\t7.3,\t4.9,\t7.9,\t7,\t0,\t10.9,\t2.3,\t6.6,\t10.3,\t8.8,\t14.4,\t6.6,\t21.6],\n",
        " [5,\t5,\t7.2,\t9.5,\t3.6,\t4.5,\t6.3,\t3.4,\t5.3,\t10.9,\t 0,\t10,\t4.9,\t0.5,\t4.4,\t3.7,\t6.1,\t34],\n",
        " [9.1,\t5.9,\t4.5,\t1.6,\t6.4,\t4.7,\t4.7,\t7,\t4.9,\t2.3,\t10,\t0,\t5.5,\t9.5,\t6.3,\t11.8,\t4.2,\t22.6],\n",
        " [5.9,\t4.2,\t3.2,\t6,\t1.2,\t1.6,\t2.1,\t2.4,\t1.9,\t6.6,\t4.9,\t5.5,\t0,\t5,\t3.5,\t8.1,\t3.6,\t30.6],\n",
        " [4.7,\t4.6,\t6.8,\t9,\t3.1,\t3.9,\t5.8,\t2.8,\t5,\t10.3,\t0.5,\t9.5,\t5,\t0,\t3.9,\t4.1,\t5.6,\t33.5],\n",
        " [4,\t1.2,\t5.2,\t5.8,\t2.9,\t1.9,\t4.6,\t2.1,\t2.7,\t8.8,\t4.4,\t6.3,\t3.5,\t3.9,\t0,\t5.6,\t5.1,\t31.3],\n",
        " [5.6,\t6.7,\t9.6,\t11.3,\t6.8,\t7.1,\t9.3,\t6.2,\t8.2,\t14.4,\t3.7,\t11.8,\t8.1,\t4.1,\t5.6,\t0,\t7.1,\t33.7],\n",
        " [9,\t1.7,\t3.9,\t3.7,\t5.7,\t4.9,\t5.1,\t6,\t2.4,\t6.6,\t6.1,\t4.2,\t3.6,\t5.6,\t5.1,\t7.1,\t0,\t23.2],\n",
        " [31.2,\t27,\t30.1,\t21.7,\t31.6,\t30.9,\t28.6,\t32.2,\t26,\t21.6,\t34,\t22.6,\t30.6,\t33.5,\t31.3,\t33.7,\t23.2,\t0]\n",
        "]                                               # Distance between node i and node j\n",
        "\n",
        "    data['num_vehicles'] = 10                   #No of vehicles\n",
        "    #data['depot'] = 0\n",
        "    data['demands'] = [0, 1, 5, 2, 6, 2, 1, 1, 1, 1, 1, 2, 1, 1, 1, 1, 2, 0]            #Demand at each node \n",
        "\n",
        "    data['vehicle_capacities'] = [32, 32, 32, 32, 32, 32,32,32,32,32]                    #Maximum vehicle capacity\n",
        "    data['min_capacity'] = [int(0.85*data['vehicle_capacities'][i]) for i in range(data['num_vehicles'])]        #Min capacity of each vehicle\n",
        "    data['starts'] = [0]*data['num_vehicles']                          #Starting node (depot)\n",
        "    data['ends'] = [17]*data['num_vehicles']                           #Ending Node\n",
        "    return data\n",
        "\n",
        "data = create_data_model()\n",
        "print(\"nodes\",len(data['distance_matrix']))\n",
        "print(\"demands: must be equal to nodes\",len(data['demands']))\n",
        "data['vehicle_capacities']\n",
        "\n",
        "print(data['min_capacity'])                                        #Priting Min capacity\n",
        "print(data['starts'])\n",
        "print(data['ends'])"
      ],
      "execution_count": null,
      "outputs": [
        {
          "output_type": "stream",
          "text": [
            "nodes 18\n",
            "demands: must be equal to nodes 18\n",
            "[27, 27, 27, 27, 27, 27, 27, 27, 27, 27]\n",
            "[0, 0, 0, 0, 0, 0, 0, 0, 0, 0]\n",
            "[17, 17, 17, 17, 17, 17, 17, 17, 17, 17]\n"
          ],
          "name": "stdout"
        }
      ]
    },
    {
      "cell_type": "code",
      "metadata": {
        "id": "gCcCN7x6SKqb",
        "colab_type": "code",
        "colab": {
          "base_uri": "https://localhost:8080/",
          "height": 115
        },
        "outputId": "8c7fa06e-5e10-42a9-c477-eea3c79190ea"
      },
      "source": [
        "\n",
        "def create_data_model():\n",
        "    \"\"\"Stores the data for the problem.\"\"\"\n",
        "    data = {}\n",
        "    data['distance_matrix'] = [\n",
        "        [\n",
        "            0, 548, 776, 696, 582, 274, 502, 194, 308, 194, 536, 502, 388, 354,\n",
        "            468, 776, 662\n",
        "        ],\n",
        "        [\n",
        "            548, 0, 684, 308, 194, 502, 730, 354, 696, 742, 1084, 594, 480, 674,\n",
        "            1016, 868, 1210\n",
        "        ],\n",
        "        [\n",
        "            776, 684, 0, 992, 878, 502, 274, 810, 468, 742, 400, 1278, 1164,\n",
        "            1130, 788, 1552, 754\n",
        "        ],\n",
        "        [\n",
        "            696, 308, 992, 0, 114, 650, 878, 502, 844, 890, 1232, 514, 628, 822,\n",
        "            1164, 560, 1358\n",
        "        ],\n",
        "        [\n",
        "            582, 194, 878, 114, 0, 536, 764, 388, 730, 776, 1118, 400, 514, 708,\n",
        "            1050, 674, 1244\n",
        "        ],\n",
        "        [\n",
        "            274, 502, 502, 650, 536, 0, 228, 308, 194, 240, 582, 776, 662, 628,\n",
        "            514, 1050, 708\n",
        "        ],\n",
        "        [\n",
        "            502, 730, 274, 878, 764, 228, 0, 536, 194, 468, 354, 1004, 890, 856,\n",
        "            514, 1278, 480\n",
        "        ],\n",
        "        [\n",
        "            194, 354, 810, 502, 388, 308, 536, 0, 342, 388, 730, 468, 354, 320,\n",
        "            662, 742, 856\n",
        "        ],\n",
        "        [\n",
        "            308, 696, 468, 844, 730, 194, 194, 342, 0, 274, 388, 810, 696, 662,\n",
        "            320, 1084, 514\n",
        "        ],\n",
        "        [\n",
        "            194, 742, 742, 890, 776, 240, 468, 388, 274, 0, 342, 536, 422, 388,\n",
        "            274, 810, 468\n",
        "        ],\n",
        "        [\n",
        "            536, 1084, 400, 1232, 1118, 582, 354, 730, 388, 342, 0, 878, 764,\n",
        "            730, 388, 1152, 354\n",
        "        ],\n",
        "        [\n",
        "            502, 594, 1278, 514, 400, 776, 1004, 468, 810, 536, 878, 0, 114,\n",
        "            308, 650, 274, 844\n",
        "        ],\n",
        "        [\n",
        "            388, 480, 1164, 628, 514, 662, 890, 354, 696, 422, 764, 114, 0, 194,\n",
        "            536, 388, 730\n",
        "        ],\n",
        "        [\n",
        "            354, 674, 1130, 822, 708, 628, 856, 320, 662, 388, 730, 308, 194, 0,\n",
        "            342, 422, 536\n",
        "        ],\n",
        "        [\n",
        "            468, 1016, 788, 1164, 1050, 514, 514, 662, 320, 274, 388, 650, 536,\n",
        "            342, 0, 764, 194\n",
        "        ],\n",
        "        [\n",
        "            776, 868, 1552, 560, 674, 1050, 1278, 742, 1084, 810, 1152, 274,\n",
        "            388, 422, 764, 0, 798\n",
        "        ],\n",
        "        [\n",
        "            662, 1210, 754, 1358, 1244, 708, 480, 856, 514, 468, 354, 844, 730,\n",
        "            536, 194, 798, 0\n",
        "        ],\n",
        "    ]\n",
        "    data['num_vehicles'] = 9\n",
        "    #data['depot'] = 0\n",
        "    data['demands'] = [0, 1, 1, 2, 4, 2, 5 , 8, 8, 1, 2, 1, 2, 4, 4, 8, 0]\n",
        "\n",
        "    data['vehicle_capacities'] = [14, 12, 16, 12, 15, 20,12,14,20]\n",
        "    data['min_capacity'] = [int(0.85*data['vehicle_capacities'][i]) for i in range(data['num_vehicles'])]\n",
        "    data['starts'] = [0]*data['num_vehicles']\n",
        "    data['ends'] = [16]*data['num_vehicles']\n",
        "    return data\n",
        "\n",
        "data = create_data_model()\n",
        "print(\"nodes\",len(data['distance_matrix']))\n",
        "print(\"demands: must be equal to nodes\",len(data['demands']))\n",
        "data['vehicle_capacities']\n",
        "\n",
        "print(data['min_capacity'])\n",
        "print(data['starts'])\n",
        "print(data['ends'])\n",
        "if len(data['vehicle_capacities']) == data['num_vehicles']:\n",
        "    print(\"bus np. == length of bus capacitites\", data['num_vehicles'])"
      ],
      "execution_count": null,
      "outputs": [
        {
          "output_type": "stream",
          "text": [
            "nodes 17\n",
            "demands: must be equal to nodes 17\n",
            "[11, 10, 13, 10, 12, 17, 10, 11, 17]\n",
            "[0, 0, 0, 0, 0, 0, 0, 0, 0]\n",
            "[16, 16, 16, 16, 16, 16, 16, 16, 16]\n",
            "bus np. == length of bus capacitites 9\n"
          ],
          "name": "stdout"
        }
      ]
    },
    {
      "cell_type": "code",
      "metadata": {
        "colab_type": "code",
        "id": "rTurF1_5Yrcv",
        "colab": {}
      },
      "source": [
        "\n",
        "def print_solution(data, manager, routing, assignment):\n",
        "    \"\"\"Prints assignment on console.\"\"\"\n",
        "    print(\"objective cost: \", assignment.ObjectiveValue())\n",
        "    print()\n",
        "    plot_values = []\n",
        "    \n",
        "    total_distance = 0\n",
        "    total_load = 0\n",
        "    \n",
        "    for vehicle_id in range(data['num_vehicles']):\n",
        "        each_vehicle = []\n",
        "        index = routing.Start(vehicle_id)\n",
        "        plan_output = 'Route for vehicle {0} with minimum capacity {1}:\\n'.format(vehicle_id,data['min_capacity'][vehicle_id])\n",
        "        route_distance = 0\n",
        "        route_load = 0\n",
        "        \n",
        "        while not routing.IsEnd(index):\n",
        "            node_index = manager.IndexToNode(index)\n",
        "            each_vehicle.append(node_index)\n",
        "            route_load += data['demands'][node_index]\n",
        "            plan_output += ' {0} (Load({1})) -> '.format(node_index, route_load)\n",
        "            previous_index = index\n",
        "            index = assignment.Value(routing.NextVar(index))\n",
        "            \n",
        "            route_distance += routing.GetArcCostForVehicle(previous_index, index, vehicle_id)\n",
        "            \n",
        "        plan_output += ' {0} Load({1})\\n'.format(manager.IndexToNode(index),route_load)\n",
        "        \n",
        "        plan_output += 'Distance of the route: {}m\\n'.format(route_distance)\n",
        "        \n",
        "        plan_output += 'Load of the route: {}\\n'.format(route_load)\n",
        "        if route_load != 0 and route_distance != 0:\n",
        "            print(plan_output)\n",
        "            print('\\n'+\"*\"*30)\n",
        "            each_vehicle.append(manager.IndexToNode(index)) \n",
        "        \n",
        "        total_distance += route_distance\n",
        "        total_load += route_load\n",
        "        plot_values.append(each_vehicle)\n",
        "        \n",
        "        \n",
        "    print('Total distance of all routes: {}m'.format(total_distance))\n",
        "    print('Total load of all routes: {}'.format(total_load))\n",
        "    return plot_values\n",
        "    \n",
        "            \n",
        "        "
      ],
      "execution_count": null,
      "outputs": []
    },
    {
      "cell_type": "markdown",
      "metadata": {
        "id": "PDoLFqjnVdGj",
        "colab_type": "text"
      },
      "source": [
        "## cost functions\n",
        "\n",
        " - SetAmortizedCostFactorsOfAllVehicles\n",
        "     - v: INDICATOR(v used in the model) * [linear_cost_factor_of_vehicle_[v] - quadratic_cost_factor_of_vehicle_[v]*(square of length of route v)]\n",
        "     \n",
        " - global_span_cost = coefficient * (Max(dimension_end_value) - Min(dimension start value))  "
      ]
    },
    {
      "cell_type": "code",
      "metadata": {
        "id": "KTxyEQwWVdGj",
        "colab_type": "code",
        "colab": {
          "base_uri": "https://localhost:8080/",
          "height": 444
        },
        "outputId": "8a62590f-591e-4b61-b603-499ff6136e25"
      },
      "source": [
        "def main():\n",
        "    \n",
        "    data = create_data_model()\n",
        "\n",
        "    manager = pywrapcp.RoutingIndexManager(len(data['distance_matrix']),data['num_vehicles'], data['starts'], data['ends'])\n",
        "\n",
        "    routing = pywrapcp.RoutingModel(manager)\n",
        "\n",
        "    routing.SetAmortizedCostFactorsOfAllVehicles(linear_cost_factor= 10*6, quadratic_cost_factor=1)\n",
        "    \n",
        "    \n",
        "    ###################### Dimension 1: Distance           #####################################\n",
        "    \n",
        "    def distance_callback(from_index, to_index):\n",
        "        \n",
        "        from_node = manager.IndexToNode(from_index)\n",
        "        to_node = manager.IndexToNode(to_index)\n",
        "        return data['distance_matrix'][from_node][to_node]\n",
        "\n",
        "    transit_callback_index = routing.RegisterTransitCallback(distance_callback)\n",
        "    \n",
        "    routing.SetArcCostEvaluatorOfAllVehicles(transit_callback_index)\n",
        "    \n",
        "    dimension_name = 'Distance'\n",
        "    routing.AddDimension(transit_callback_index,0, 3000, True, dimension_name)\n",
        "    distance_dimension = routing.GetDimensionOrDie(dimension_name)\n",
        "    distance_dimension.SetGlobalSpanCostCoefficient(6)\n",
        "    \n",
        "    \n",
        "    ####################          Dimension 2: Capacity          ####################################\n",
        "    capacity_dim = 'capacity'\n",
        "    def demand_callback(from_index):\n",
        "        from_node = manager.IndexToNode(from_index)\n",
        "        return data['demands'][from_node]\n",
        "\n",
        "    demand_callback_index = routing.RegisterUnaryTransitCallback(demand_callback)\n",
        "    \n",
        "    routing.AddDimensionWithVehicleCapacity(demand_callback_index,0, data['vehicle_capacities'], True,capacity_dim)\n",
        "    \n",
        "             #######     min capactity\n",
        "    capacity_dimension = routing.GetDimensionOrDie(capacity_dim)\n",
        "    minimum_allowed_capacity = data['min_capacity']\n",
        "    for vehicle in range(data['num_vehicles']):\n",
        "        capacity_dimension.CumulVar(routing.End(vehicle)).RemoveInterval(1, minimum_allowed_capacity[vehicle])\n",
        "    \n",
        "    #########################################################################################################\n",
        "    \n",
        "    \n",
        "    # Setting first solution heuristic.\n",
        "    search_parameters = pywrapcp.DefaultRoutingSearchParameters()\n",
        "    search_parameters.first_solution_strategy = (routing_enums_pb2.FirstSolutionStrategy.PATH_CHEAPEST_ARC)\n",
        "    \n",
        "    search_parameters = pywrapcp.DefaultRoutingSearchParameters()\n",
        "    # search_parameters.local_search_metaheuristic = (\n",
        "    #     routing_enums_pb2.LocalSearchMetaheuristic.GUIDED_LOCAL_SEARCH)\n",
        "    # search_parameters.time_limit.seconds = 30\n",
        "    #search_parameters.log_search = True \n",
        "    # Solve the problem.\n",
        "    solution = routing.SolveWithParameters(search_parameters)\n",
        "    #print(solution)\n",
        "    # Print solution on console.\n",
        "    if solution:\n",
        "        plot_values = print_solution(data, manager, routing, solution)\n",
        "        print(plot_values)\n",
        "        return plot_values\n",
        "    \n",
        "\n",
        "plot_values = main()"
      ],
      "execution_count": null,
      "outputs": [
        {
          "output_type": "stream",
          "text": [
            "objective cost:  21241\n",
            "\n",
            "Route for vehicle 5 with minimum capacity 17:\n",
            " 0 (Load(0)) ->  7 (Load(8)) ->  13 (Load(12)) ->  12 (Load(14)) ->  11 (Load(15)) ->  9 (Load(16)) ->  14 (Load(20)) ->  16 Load(20)\n",
            "Distance of the route: 1826m\n",
            "Load of the route: 20\n",
            "\n",
            "\n",
            "******************************\n",
            "Route for vehicle 7 with minimum capacity 11:\n",
            " 0 (Load(0)) ->  4 (Load(4)) ->  3 (Load(6)) ->  15 (Load(14)) ->  16 Load(14)\n",
            "Distance of the route: 2054m\n",
            "Load of the route: 14\n",
            "\n",
            "\n",
            "******************************\n",
            "Route for vehicle 8 with minimum capacity 17:\n",
            " 0 (Load(0)) ->  1 (Load(1)) ->  5 (Load(3)) ->  8 (Load(11)) ->  6 (Load(16)) ->  2 (Load(17)) ->  10 (Load(19)) ->  16 Load(19)\n",
            "Distance of the route: 2466m\n",
            "Load of the route: 19\n",
            "\n",
            "\n",
            "******************************\n",
            "Total distance of all routes: 6346m\n",
            "Total load of all routes: 53\n",
            "[[0], [0], [0], [0], [0], [0, 7, 13, 12, 11, 9, 14, 16], [0], [0, 4, 3, 15, 16], [0, 1, 5, 8, 6, 2, 10, 16]]\n"
          ],
          "name": "stdout"
        }
      ]
    },
    {
      "cell_type": "code",
      "metadata": {
        "colab_type": "code",
        "id": "zP9Cj8qNJJ0M",
        "colab": {
          "base_uri": "https://localhost:8080/",
          "height": 656
        },
        "outputId": "0ba097ec-04d4-4586-90d0-8393f1b9ff4e"
      },
      "source": [
        "import time\n",
        "def plot(plot_values):\n",
        "    plt.figure(figsize= [20,10])\n",
        "    plt.title(\" plot of different route take by buses\")\n",
        "    nodes = len(plot_values)\n",
        "    \n",
        "    \n",
        "    for i in range(nodes):\n",
        "        if len(plot_values[i]) != 1:\n",
        "            bus_i_route = plot_values[i].copy()\n",
        "            \n",
        "            start = bus_i_route[0]\n",
        "            end = bus_i_route[-1]\n",
        "             \n",
        "            bus_i_route.insert(0,start) #pad with first word before\n",
        "            bus_i_route.insert(-1,end)     #pad with end point after\n",
        "            print(bus_i_route)\n",
        "            plt.plot(bus_i_route[:-1],bus_i_route[1:])\n",
        "            for a,b in zip(bus_i_route[:-1], bus_i_route[1:]): \n",
        "                plt.text(a, b, str(b), fontsize=15) #this map is as per y axis(nodes on y axis) because we are using str(b) the 2nd index.\n",
        "                #if however we use str(a) in place of str(b), this map will be on x-axis interpretable. \n",
        "    plt.show()\n",
        "\n",
        "plot(plot_values)"
      ],
      "execution_count": null,
      "outputs": [
        {
          "output_type": "stream",
          "text": [
            "[0, 0, 7, 13, 12, 11, 9, 14, 16, 16]\n",
            "[0, 0, 4, 3, 15, 16, 16]\n",
            "[0, 0, 1, 5, 8, 6, 2, 10, 16, 16]\n"
          ],
          "name": "stdout"
        },
        {
          "output_type": "display_data",
          "data": {
            "image/png": "[encoded data removed]",
            "text/plain": [
              "<Figure size 1440x720 with 1 Axes>"
            ]
          },
          "metadata": {
            "tags": []
          }
        }
      ]
    },
    {
      "cell_type": "code",
      "metadata": {
        "id": "GzJ0juOdVdGv",
        "colab_type": "code",
        "colab": {}
      },
      "source": [
        ""
      ],
      "execution_count": null,
      "outputs": []
    }
  ]
}
